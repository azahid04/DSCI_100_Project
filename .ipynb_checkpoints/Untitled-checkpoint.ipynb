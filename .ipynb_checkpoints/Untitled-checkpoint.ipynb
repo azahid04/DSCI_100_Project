{
 "cells": [
  {
   "cell_type": "markdown",
   "id": "02b307b8-40b0-46a8-b531-520faa9653d8",
   "metadata": {},
   "source": [
    "Comment to see if works"
   ]
  },
  {
   "cell_type": "markdown",
   "id": "7e191e59-a302-4e03-a05f-405eb5c8a05c",
   "metadata": {},
   "source": [
    "Another Comment"
   ]
  }
 ],
 "metadata": {
  "kernelspec": {
   "display_name": "R",
   "language": "R",
   "name": "ir"
  },
  "language_info": {
   "codemirror_mode": "r",
   "file_extension": ".r",
   "mimetype": "text/x-r-source",
   "name": "R",
   "pygments_lexer": "r",
   "version": "4.3.3"
  }
 },
 "nbformat": 4,
 "nbformat_minor": 5
}
